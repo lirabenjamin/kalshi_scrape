{
 "cells": [
  {
   "cell_type": "code",
   "execution_count": 1,
   "id": "7afe9026",
   "metadata": {},
   "outputs": [],
   "source": [
    "import pandas as pd\n",
    "\n",
    "data = pd.read_csv('data/kalshi_panel.csv')\n",
    "ticker_max_week = data.loc[data.groupby('ticker')['week'].idxmax()].reset_index(drop=True)"
   ]
  },
  {
   "cell_type": "code",
   "execution_count": null,
   "id": "3fcbfd12",
   "metadata": {},
   "outputs": [
    {
     "data": {
      "application/vnd.jupyter.widget-view+json": {
       "model_id": "856e52b2de13419696956ec3612a34dd",
       "version_major": 2,
       "version_minor": 0
      },
      "text/plain": [
       "interactive(children=(IntSlider(value=31, continuous_update=False, description='Min week ≥', layout=Layout(wid…"
      ]
     },
     "metadata": {},
     "output_type": "display_data"
    },
    {
     "data": {
      "text/plain": [
       "<function __main__.plot_avg_brier(min_week)>"
      ]
     },
     "execution_count": 4,
     "metadata": {},
     "output_type": "execute_result"
    }
   ],
   "source": [
    "from ipywidgets import interact, IntSlider\n",
    "import seaborn as sns\n",
    "import ipywidgets as widgets\n",
    "\n",
    "pretty_slider = widgets.IntSlider(\n",
    "    value       = 31,\n",
    "    min         = 0,\n",
    "    max         = int(ticker_max_week['week'].max()),\n",
    "    step        = 1,\n",
    "    description = 'Min week ≥',\n",
    "    continuous_update = False,          # update on mouse-up only\n",
    "    style   = {'description_width': '80px',\n",
    "               'handle_color'    : '#3f88c5'},   # blue handle\n",
    "    layout  = widgets.Layout(width='600px')      # wider track\n",
    ")\n",
    "\n",
    "import matplotlib.pyplot as plt\n",
    "\n",
    "def plot_avg_brier(min_week):\n",
    "    # Filter tickers with max week > min_week\n",
    "    filtered = ticker_max_week[ticker_max_week['week'] > min_week]\n",
    "    tickers = filtered['ticker'].unique()\n",
    "    df = data[data['ticker'].isin(tickers)]\n",
    "    \n",
    "    # Calculate Brier score: (prob - resolution)^2\n",
    "    df = df.copy()\n",
    "    df['brier'] = (df['prob'] - df['resolution']) ** 2\n",
    "\n",
    "    # Group by week and calculate average Brier\n",
    "    avg_brier = df.groupby('week')['brier'].mean().reset_index()\n",
    "\n",
    "    # Only show weeks >= min_week\n",
    "    avg_brier = avg_brier[avg_brier['week'] <= min_week]\n",
    "\n",
    "    # Calculate mean and 95% confidence interval for Brier score by week\n",
    "    summary = df.groupby('week')['brier'].agg(['mean', 'count', 'std']).reset_index()\n",
    "    summary['sem'] = summary['std'] / summary['count']**0.5\n",
    "    summary['ci95_hi'] = summary['mean'] + 1.96 * summary['sem']\n",
    "    summary['ci95_lo'] = summary['mean'] - 1.96 * summary['sem']\n",
    "\n",
    "    summary['ci9_hi'] = summary['mean'] + 1.96 * summary['std']\n",
    "    summary['ci9_lo'] = summary['mean'] - 1.96 * summary['std']\n",
    "\n",
    "    plt.figure(figsize=(8,5))\n",
    "    sns.lineplot(x='week', y='mean', data=summary, marker='o', label='Average Brier')\n",
    "    plt.fill_between(summary['week'], summary['ci95_lo'], summary['ci95_hi'], alpha=0.3, label='95% CI')\n",
    "    plt.fill_between(summary['week'], summary['ci9_lo'], summary['ci9_hi'], alpha=0.3, label='95% CI')\n",
    "\n",
    "    plt.gca().invert_xaxis()  # Reverse x-axis\n",
    "    plt.xlabel('Week')\n",
    "    plt.ylabel('Average Brier Score')\n",
    "    plt.title(f'Average Brier Score by Week (tickers with max week > {min_week})')\n",
    "    plt.xlim(left=min_week)\n",
    "    plt.legend()\n",
    "    plt.show()\n",
    "\n",
    "interact(plot_avg_brier, min_week=pretty_slider)"
   ]
  },
  {
   "cell_type": "code",
   "execution_count": null,
   "id": "1be612a4",
   "metadata": {},
   "outputs": [],
   "source": []
  }
 ],
 "metadata": {
  "kernelspec": {
   "display_name": ".venv",
   "language": "python",
   "name": "python3"
  },
  "language_info": {
   "codemirror_mode": {
    "name": "ipython",
    "version": 3
   },
   "file_extension": ".py",
   "mimetype": "text/x-python",
   "name": "python",
   "nbconvert_exporter": "python",
   "pygments_lexer": "ipython3",
   "version": "3.11.9"
  }
 },
 "nbformat": 4,
 "nbformat_minor": 5
}
